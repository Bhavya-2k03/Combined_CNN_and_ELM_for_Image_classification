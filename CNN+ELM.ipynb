{
  "nbformat": 4,
  "nbformat_minor": 0,
  "metadata": {
    "colab": {
      "provenance": [],
      "collapsed_sections": [],
      "authorship_tag": "ABX9TyO6I1aEREEWjOr1FdwvdoQa",
      "include_colab_link": true
    },
    "kernelspec": {
      "name": "python3",
      "display_name": "Python 3"
    },
    "language_info": {
      "name": "python"
    }
  },
  "cells": [
    {
      "cell_type": "markdown",
      "metadata": {
        "id": "view-in-github",
        "colab_type": "text"
      },
      "source": [
        "<a href=\"https://colab.research.google.com/github/Bhavya-2k03/Combined_CNN_and_ELM_for_Image_classification/blob/main/CNN%2BELM.ipynb\" target=\"_parent\"><img src=\"https://colab.research.google.com/assets/colab-badge.svg\" alt=\"Open In Colab\"/></a>"
      ]
    },
    {
      "cell_type": "code",
      "execution_count": 1,
      "metadata": {
        "id": "kXjZnaBKlHno"
      },
      "outputs": [],
      "source": [
        "# cnn+elm"
      ]
    },
    {
      "cell_type": "code",
      "source": [
        "!pip install hpelm"
      ],
      "metadata": {
        "colab": {
          "base_uri": "https://localhost:8080/"
        },
        "id": "Dd9HoJMJS8Ko",
        "outputId": "b75b386a-9e61-41c6-fdd8-026bb50ef850"
      },
      "execution_count": 2,
      "outputs": [
        {
          "output_type": "stream",
          "name": "stdout",
          "text": [
            "Looking in indexes: https://pypi.org/simple, https://us-python.pkg.dev/colab-wheels/public/simple/\n",
            "Collecting hpelm\n",
            "  Downloading hpelm-1.0.10-py3-none-any.whl (50 kB)\n",
            "\u001b[K     |████████████████████████████████| 50 kB 2.9 MB/s \n",
            "\u001b[?25hRequirement already satisfied: scipy>=0.12 in /usr/local/lib/python3.7/dist-packages (from hpelm) (1.7.3)\n",
            "Requirement already satisfied: tables in /usr/local/lib/python3.7/dist-packages (from hpelm) (3.7.0)\n",
            "Requirement already satisfied: six in /usr/local/lib/python3.7/dist-packages (from hpelm) (1.15.0)\n",
            "Collecting fasteners\n",
            "  Downloading fasteners-0.18-py3-none-any.whl (18 kB)\n",
            "Collecting nose\n",
            "  Downloading nose-1.3.7-py3-none-any.whl (154 kB)\n",
            "\u001b[K     |████████████████████████████████| 154 kB 10.2 MB/s \n",
            "\u001b[?25hRequirement already satisfied: numpy in /usr/local/lib/python3.7/dist-packages (from hpelm) (1.21.6)\n",
            "Requirement already satisfied: numexpr>=2.6.2 in /usr/local/lib/python3.7/dist-packages (from tables->hpelm) (2.8.3)\n",
            "Requirement already satisfied: packaging in /usr/local/lib/python3.7/dist-packages (from tables->hpelm) (21.3)\n",
            "Requirement already satisfied: pyparsing!=3.0.5,>=2.0.2 in /usr/local/lib/python3.7/dist-packages (from packaging->tables->hpelm) (3.0.9)\n",
            "Installing collected packages: nose, fasteners, hpelm\n",
            "Successfully installed fasteners-0.18 hpelm-1.0.10 nose-1.3.7\n"
          ]
        }
      ]
    },
    {
      "cell_type": "code",
      "source": [
        "import hpelm\n",
        "import tensorflow as tf\n",
        "import sklearn\n",
        "import seaborn as sn\n",
        "import matplotlib.pyplot as plt\n",
        "from tensorflow.keras.models import Model\n",
        "from tensorflow.keras.layers import Conv2D, Dense,MaxPool2D,GlobalAveragePooling2D,Flatten\n",
        "from tensorflow.keras.optimizers import Adam\n",
        "from sklearn.model_selection import train_test_split\n",
        "from sklearn.datasets import load_digits\n",
        "import numpy as np\n",
        "from keras.utils import np_utils\n",
        "from sklearn.metrics import precision_recall_fscore_support,accuracy_score"
      ],
      "metadata": {
        "id": "ICUIQU5rTDil"
      },
      "execution_count": 47,
      "outputs": []
    },
    {
      "cell_type": "code",
      "source": [
        "digit=load_digits()"
      ],
      "metadata": {
        "id": "jWuTFjgv2FWe"
      },
      "execution_count": 48,
      "outputs": []
    },
    {
      "cell_type": "code",
      "source": [
        "data=digit.data\n",
        "target=digit.target"
      ],
      "metadata": {
        "id": "MMt_Ct644ZmF"
      },
      "execution_count": 49,
      "outputs": []
    },
    {
      "cell_type": "code",
      "source": [
        "x_train,x_test,y_train,y_test=train_test_split(data,target,test_size=0.3)"
      ],
      "metadata": {
        "id": "x5NOfJSi6fnv"
      },
      "execution_count": 50,
      "outputs": []
    },
    {
      "cell_type": "code",
      "source": [
        "x_train=x_train/255\n",
        "x_test=x_test/255"
      ],
      "metadata": {
        "id": "FJ5mP-Ec68YL"
      },
      "execution_count": 51,
      "outputs": []
    },
    {
      "cell_type": "code",
      "source": [
        "x_train=np.reshape(x_train,(x_train.shape[0],8,8,1))\n",
        "x_test=np.reshape(x_test,(x_test.shape[0],8,8,1))"
      ],
      "metadata": {
        "id": "ZtOQpCAuxw5p"
      },
      "execution_count": 52,
      "outputs": []
    },
    {
      "cell_type": "code",
      "source": [
        "print(x_train.shape,x_test.shape)"
      ],
      "metadata": {
        "colab": {
          "base_uri": "https://localhost:8080/"
        },
        "id": "OdAbuM-LHRya",
        "outputId": "10c56c10-2538-4cf3-b8ff-2d701608dbd3"
      },
      "execution_count": 53,
      "outputs": [
        {
          "output_type": "stream",
          "name": "stdout",
          "text": [
            "(1257, 8, 8, 1) (540, 8, 8, 1)\n"
          ]
        }
      ]
    },
    {
      "cell_type": "code",
      "source": [
        "model=tf.keras.models.Sequential()\n",
        "model.add(tf.keras.Input(shape=(8,8,1)))\n",
        "model.add(Conv2D(16,3,padding=\"same\",activation=\"relu\"))\n",
        "model.add(MaxPool2D((2,2)))\n",
        "model.add(Conv2D(16,2,padding=\"same\",activation=\"relu\"))\n",
        "model.add(MaxPool2D((2,2)))\n",
        "model.add(Conv2D(8,2,padding=\"same\",activation=\"relu\"))\n",
        "model.add(MaxPool2D((2,2)))\n",
        "# model.add(GlobalAveragePooling2D())\n",
        "model.add(Flatten(name=\"flatten_1\"))\n",
        "model.add(Dense(10,activation=\"softmax\"))\n"
      ],
      "metadata": {
        "id": "RMcEh1bV9SVd"
      },
      "execution_count": 72,
      "outputs": []
    },
    {
      "cell_type": "code",
      "source": [
        "model.compile(loss=\"sparse_categorical_crossentropy\",optimizer=Adam(),metrics=[\"accuracy\"])\n",
        "model.summary()"
      ],
      "metadata": {
        "colab": {
          "base_uri": "https://localhost:8080/"
        },
        "id": "ipPlzDOZDNrQ",
        "outputId": "54cc8a18-beb3-416c-f8fe-e0c30290e7e4"
      },
      "execution_count": 73,
      "outputs": [
        {
          "output_type": "stream",
          "name": "stdout",
          "text": [
            "Model: \"sequential_4\"\n",
            "_________________________________________________________________\n",
            " Layer (type)                Output Shape              Param #   \n",
            "=================================================================\n",
            " conv2d_12 (Conv2D)          (None, 8, 8, 16)          160       \n",
            "                                                                 \n",
            " max_pooling2d_12 (MaxPoolin  (None, 4, 4, 16)         0         \n",
            " g2D)                                                            \n",
            "                                                                 \n",
            " conv2d_13 (Conv2D)          (None, 4, 4, 16)          1040      \n",
            "                                                                 \n",
            " max_pooling2d_13 (MaxPoolin  (None, 2, 2, 16)         0         \n",
            " g2D)                                                            \n",
            "                                                                 \n",
            " conv2d_14 (Conv2D)          (None, 2, 2, 8)           520       \n",
            "                                                                 \n",
            " max_pooling2d_14 (MaxPoolin  (None, 1, 1, 8)          0         \n",
            " g2D)                                                            \n",
            "                                                                 \n",
            " flatten_1 (Flatten)         (None, 8)                 0         \n",
            "                                                                 \n",
            " dense_4 (Dense)             (None, 10)                90        \n",
            "                                                                 \n",
            "=================================================================\n",
            "Total params: 1,810\n",
            "Trainable params: 1,810\n",
            "Non-trainable params: 0\n",
            "_________________________________________________________________\n"
          ]
        }
      ]
    },
    {
      "cell_type": "code",
      "source": [
        "model.fit(x_train,y_train,batch_size=20,epochs=150,validation_split=0.3,verbose=1,callbacks=tf.keras.callbacks.EarlyStopping(patience=15,monitor=\"val_accuracy\"))"
      ],
      "metadata": {
        "colab": {
          "base_uri": "https://localhost:8080/"
        },
        "id": "9dwTmKD9D9AI",
        "outputId": "57e82f64-2dab-4bf0-8b8d-b7732bcbfa82"
      },
      "execution_count": 56,
      "outputs": [
        {
          "output_type": "stream",
          "name": "stdout",
          "text": [
            "Epoch 1/150\n",
            "44/44 [==============================] - 1s 10ms/step - loss: 2.3027 - accuracy: 0.1035 - val_loss: 2.3005 - val_accuracy: 0.1640\n",
            "Epoch 2/150\n",
            "44/44 [==============================] - 0s 5ms/step - loss: 2.2995 - accuracy: 0.2218 - val_loss: 2.2980 - val_accuracy: 0.1587\n",
            "Epoch 3/150\n",
            "44/44 [==============================] - 0s 5ms/step - loss: 2.2945 - accuracy: 0.1991 - val_loss: 2.2905 - val_accuracy: 0.2037\n",
            "Epoch 4/150\n",
            "44/44 [==============================] - 0s 4ms/step - loss: 2.2821 - accuracy: 0.2253 - val_loss: 2.2738 - val_accuracy: 0.2063\n",
            "Epoch 5/150\n",
            "44/44 [==============================] - 0s 5ms/step - loss: 2.2544 - accuracy: 0.2184 - val_loss: 2.2361 - val_accuracy: 0.1561\n",
            "Epoch 6/150\n",
            "44/44 [==============================] - 0s 5ms/step - loss: 2.1993 - accuracy: 0.2457 - val_loss: 2.1740 - val_accuracy: 0.2328\n",
            "Epoch 7/150\n",
            "44/44 [==============================] - 0s 4ms/step - loss: 2.1159 - accuracy: 0.2355 - val_loss: 2.0888 - val_accuracy: 0.2434\n",
            "Epoch 8/150\n",
            "44/44 [==============================] - 0s 5ms/step - loss: 2.0114 - accuracy: 0.2639 - val_loss: 1.9907 - val_accuracy: 0.2566\n",
            "Epoch 9/150\n",
            "44/44 [==============================] - 0s 5ms/step - loss: 1.8998 - accuracy: 0.3060 - val_loss: 1.8974 - val_accuracy: 0.2884\n",
            "Epoch 10/150\n",
            "44/44 [==============================] - 0s 6ms/step - loss: 1.7991 - accuracy: 0.3732 - val_loss: 1.8013 - val_accuracy: 0.3783\n",
            "Epoch 11/150\n",
            "44/44 [==============================] - 0s 5ms/step - loss: 1.6968 - accuracy: 0.4687 - val_loss: 1.7502 - val_accuracy: 0.4709\n",
            "Epoch 12/150\n",
            "44/44 [==============================] - 0s 5ms/step - loss: 1.6089 - accuracy: 0.5245 - val_loss: 1.6539 - val_accuracy: 0.4603\n",
            "Epoch 13/150\n",
            "44/44 [==============================] - 0s 5ms/step - loss: 1.5341 - accuracy: 0.5336 - val_loss: 1.5804 - val_accuracy: 0.5265\n",
            "Epoch 14/150\n",
            "44/44 [==============================] - 0s 6ms/step - loss: 1.4519 - accuracy: 0.5757 - val_loss: 1.4997 - val_accuracy: 0.5714\n",
            "Epoch 15/150\n",
            "44/44 [==============================] - 0s 5ms/step - loss: 1.3869 - accuracy: 0.5745 - val_loss: 1.4513 - val_accuracy: 0.5608\n",
            "Epoch 16/150\n",
            "44/44 [==============================] - 0s 5ms/step - loss: 1.3165 - accuracy: 0.6109 - val_loss: 1.4097 - val_accuracy: 0.5503\n",
            "Epoch 17/150\n",
            "44/44 [==============================] - 0s 5ms/step - loss: 1.2703 - accuracy: 0.5813 - val_loss: 1.3940 - val_accuracy: 0.5635\n",
            "Epoch 18/150\n",
            "44/44 [==============================] - 0s 6ms/step - loss: 1.2410 - accuracy: 0.5904 - val_loss: 1.3223 - val_accuracy: 0.5661\n",
            "Epoch 19/150\n",
            "44/44 [==============================] - 0s 6ms/step - loss: 1.1705 - accuracy: 0.6348 - val_loss: 1.2609 - val_accuracy: 0.5873\n",
            "Epoch 20/150\n",
            "44/44 [==============================] - 0s 5ms/step - loss: 1.1291 - accuracy: 0.6530 - val_loss: 1.2318 - val_accuracy: 0.5926\n",
            "Epoch 21/150\n",
            "44/44 [==============================] - 0s 5ms/step - loss: 1.0847 - accuracy: 0.6803 - val_loss: 1.1908 - val_accuracy: 0.5926\n",
            "Epoch 22/150\n",
            "44/44 [==============================] - 0s 5ms/step - loss: 1.0392 - accuracy: 0.6792 - val_loss: 1.1772 - val_accuracy: 0.5979\n",
            "Epoch 23/150\n",
            "44/44 [==============================] - 0s 5ms/step - loss: 1.0085 - accuracy: 0.6962 - val_loss: 1.1306 - val_accuracy: 0.6085\n",
            "Epoch 24/150\n",
            "44/44 [==============================] - 0s 5ms/step - loss: 0.9798 - accuracy: 0.6894 - val_loss: 1.1224 - val_accuracy: 0.6270\n",
            "Epoch 25/150\n",
            "44/44 [==============================] - 0s 5ms/step - loss: 0.9538 - accuracy: 0.6962 - val_loss: 1.0944 - val_accuracy: 0.6217\n",
            "Epoch 26/150\n",
            "44/44 [==============================] - 0s 5ms/step - loss: 0.9308 - accuracy: 0.7144 - val_loss: 1.0686 - val_accuracy: 0.6190\n",
            "Epoch 27/150\n",
            "44/44 [==============================] - 0s 6ms/step - loss: 0.9192 - accuracy: 0.7008 - val_loss: 1.0516 - val_accuracy: 0.6296\n",
            "Epoch 28/150\n",
            "44/44 [==============================] - 0s 5ms/step - loss: 0.8863 - accuracy: 0.7156 - val_loss: 1.0470 - val_accuracy: 0.6296\n",
            "Epoch 29/150\n",
            "44/44 [==============================] - 0s 5ms/step - loss: 0.8648 - accuracy: 0.7179 - val_loss: 1.0247 - val_accuracy: 0.6534\n",
            "Epoch 30/150\n",
            "44/44 [==============================] - 0s 5ms/step - loss: 0.8524 - accuracy: 0.7281 - val_loss: 1.0223 - val_accuracy: 0.6349\n",
            "Epoch 31/150\n",
            "44/44 [==============================] - 0s 5ms/step - loss: 0.8369 - accuracy: 0.7361 - val_loss: 0.9896 - val_accuracy: 0.6720\n",
            "Epoch 32/150\n",
            "44/44 [==============================] - 0s 6ms/step - loss: 0.8226 - accuracy: 0.7315 - val_loss: 0.9816 - val_accuracy: 0.6508\n",
            "Epoch 33/150\n",
            "44/44 [==============================] - 0s 5ms/step - loss: 0.8041 - accuracy: 0.7418 - val_loss: 0.9663 - val_accuracy: 0.6508\n",
            "Epoch 34/150\n",
            "44/44 [==============================] - 0s 5ms/step - loss: 0.7957 - accuracy: 0.7406 - val_loss: 0.9449 - val_accuracy: 0.6746\n",
            "Epoch 35/150\n",
            "44/44 [==============================] - 0s 5ms/step - loss: 0.7811 - accuracy: 0.7520 - val_loss: 0.9377 - val_accuracy: 0.6614\n",
            "Epoch 36/150\n",
            "44/44 [==============================] - 0s 5ms/step - loss: 0.7650 - accuracy: 0.7543 - val_loss: 0.9237 - val_accuracy: 0.6640\n",
            "Epoch 37/150\n",
            "44/44 [==============================] - 0s 5ms/step - loss: 0.7539 - accuracy: 0.7486 - val_loss: 0.9097 - val_accuracy: 0.6825\n",
            "Epoch 38/150\n",
            "44/44 [==============================] - 0s 5ms/step - loss: 0.7414 - accuracy: 0.7531 - val_loss: 0.9138 - val_accuracy: 0.6825\n",
            "Epoch 39/150\n",
            "44/44 [==============================] - 0s 5ms/step - loss: 0.7346 - accuracy: 0.7543 - val_loss: 0.8911 - val_accuracy: 0.6825\n",
            "Epoch 40/150\n",
            "44/44 [==============================] - 0s 5ms/step - loss: 0.7233 - accuracy: 0.7725 - val_loss: 0.8927 - val_accuracy: 0.6667\n",
            "Epoch 41/150\n",
            "44/44 [==============================] - 0s 4ms/step - loss: 0.7086 - accuracy: 0.7600 - val_loss: 0.8860 - val_accuracy: 0.6878\n",
            "Epoch 42/150\n",
            "44/44 [==============================] - 0s 5ms/step - loss: 0.7036 - accuracy: 0.7577 - val_loss: 0.8669 - val_accuracy: 0.6852\n",
            "Epoch 43/150\n",
            "44/44 [==============================] - 0s 5ms/step - loss: 0.6915 - accuracy: 0.7645 - val_loss: 0.8657 - val_accuracy: 0.6852\n",
            "Epoch 44/150\n",
            "44/44 [==============================] - 0s 5ms/step - loss: 0.6897 - accuracy: 0.7600 - val_loss: 0.8706 - val_accuracy: 0.6799\n",
            "Epoch 45/150\n",
            "44/44 [==============================] - 0s 6ms/step - loss: 0.6853 - accuracy: 0.7588 - val_loss: 0.8412 - val_accuracy: 0.6984\n",
            "Epoch 46/150\n",
            "44/44 [==============================] - 0s 5ms/step - loss: 0.6661 - accuracy: 0.7827 - val_loss: 0.8312 - val_accuracy: 0.7090\n",
            "Epoch 47/150\n",
            "44/44 [==============================] - 0s 4ms/step - loss: 0.6643 - accuracy: 0.7736 - val_loss: 0.8327 - val_accuracy: 0.6984\n",
            "Epoch 48/150\n",
            "44/44 [==============================] - 0s 5ms/step - loss: 0.6545 - accuracy: 0.7816 - val_loss: 0.8242 - val_accuracy: 0.6958\n",
            "Epoch 49/150\n",
            "44/44 [==============================] - 0s 5ms/step - loss: 0.6456 - accuracy: 0.7691 - val_loss: 0.8095 - val_accuracy: 0.7116\n",
            "Epoch 50/150\n",
            "44/44 [==============================] - 0s 5ms/step - loss: 0.6316 - accuracy: 0.7873 - val_loss: 0.8091 - val_accuracy: 0.7063\n",
            "Epoch 51/150\n",
            "44/44 [==============================] - 0s 5ms/step - loss: 0.6305 - accuracy: 0.7816 - val_loss: 0.8193 - val_accuracy: 0.6852\n",
            "Epoch 52/150\n",
            "44/44 [==============================] - 0s 5ms/step - loss: 0.6321 - accuracy: 0.7793 - val_loss: 0.8277 - val_accuracy: 0.6931\n",
            "Epoch 53/150\n",
            "44/44 [==============================] - 0s 5ms/step - loss: 0.6175 - accuracy: 0.7850 - val_loss: 0.7918 - val_accuracy: 0.7011\n",
            "Epoch 54/150\n",
            "44/44 [==============================] - 0s 5ms/step - loss: 0.6159 - accuracy: 0.7816 - val_loss: 0.7833 - val_accuracy: 0.7090\n",
            "Epoch 55/150\n",
            "44/44 [==============================] - 0s 5ms/step - loss: 0.6093 - accuracy: 0.7907 - val_loss: 0.7888 - val_accuracy: 0.7063\n",
            "Epoch 56/150\n",
            "44/44 [==============================] - 0s 6ms/step - loss: 0.6092 - accuracy: 0.7895 - val_loss: 0.7670 - val_accuracy: 0.7222\n",
            "Epoch 57/150\n",
            "44/44 [==============================] - 0s 5ms/step - loss: 0.5936 - accuracy: 0.7986 - val_loss: 0.7719 - val_accuracy: 0.7222\n",
            "Epoch 58/150\n",
            "44/44 [==============================] - 0s 5ms/step - loss: 0.5899 - accuracy: 0.7986 - val_loss: 0.7575 - val_accuracy: 0.7354\n",
            "Epoch 59/150\n",
            "44/44 [==============================] - 0s 5ms/step - loss: 0.5838 - accuracy: 0.7827 - val_loss: 0.7523 - val_accuracy: 0.7222\n",
            "Epoch 60/150\n",
            "44/44 [==============================] - 0s 4ms/step - loss: 0.5778 - accuracy: 0.7964 - val_loss: 0.7462 - val_accuracy: 0.7222\n",
            "Epoch 61/150\n",
            "44/44 [==============================] - 0s 4ms/step - loss: 0.5691 - accuracy: 0.7975 - val_loss: 0.7425 - val_accuracy: 0.7169\n",
            "Epoch 62/150\n",
            "44/44 [==============================] - 0s 5ms/step - loss: 0.5654 - accuracy: 0.7986 - val_loss: 0.7418 - val_accuracy: 0.7169\n",
            "Epoch 63/150\n",
            "44/44 [==============================] - 0s 6ms/step - loss: 0.5689 - accuracy: 0.7929 - val_loss: 0.7339 - val_accuracy: 0.7381\n",
            "Epoch 64/150\n",
            "44/44 [==============================] - 0s 5ms/step - loss: 0.5629 - accuracy: 0.8089 - val_loss: 0.7229 - val_accuracy: 0.7328\n",
            "Epoch 65/150\n",
            "44/44 [==============================] - 0s 5ms/step - loss: 0.5581 - accuracy: 0.7986 - val_loss: 0.7225 - val_accuracy: 0.7275\n",
            "Epoch 66/150\n",
            "44/44 [==============================] - 0s 6ms/step - loss: 0.5505 - accuracy: 0.7998 - val_loss: 0.7234 - val_accuracy: 0.7302\n",
            "Epoch 67/150\n",
            "44/44 [==============================] - 0s 5ms/step - loss: 0.5410 - accuracy: 0.7986 - val_loss: 0.7146 - val_accuracy: 0.7354\n",
            "Epoch 68/150\n",
            "44/44 [==============================] - 0s 5ms/step - loss: 0.5410 - accuracy: 0.7986 - val_loss: 0.7066 - val_accuracy: 0.7434\n",
            "Epoch 69/150\n",
            "44/44 [==============================] - 0s 4ms/step - loss: 0.5363 - accuracy: 0.8077 - val_loss: 0.7151 - val_accuracy: 0.7434\n",
            "Epoch 70/150\n",
            "44/44 [==============================] - 0s 5ms/step - loss: 0.5373 - accuracy: 0.8032 - val_loss: 0.7074 - val_accuracy: 0.7434\n",
            "Epoch 71/150\n",
            "44/44 [==============================] - 0s 5ms/step - loss: 0.5285 - accuracy: 0.8134 - val_loss: 0.6978 - val_accuracy: 0.7354\n",
            "Epoch 72/150\n",
            "44/44 [==============================] - 0s 6ms/step - loss: 0.5229 - accuracy: 0.8191 - val_loss: 0.6993 - val_accuracy: 0.7487\n",
            "Epoch 73/150\n",
            "44/44 [==============================] - 0s 5ms/step - loss: 0.5181 - accuracy: 0.8191 - val_loss: 0.6853 - val_accuracy: 0.7460\n",
            "Epoch 74/150\n",
            "44/44 [==============================] - 0s 5ms/step - loss: 0.5236 - accuracy: 0.8020 - val_loss: 0.6969 - val_accuracy: 0.7460\n",
            "Epoch 75/150\n",
            "44/44 [==============================] - 0s 4ms/step - loss: 0.5162 - accuracy: 0.8032 - val_loss: 0.6817 - val_accuracy: 0.7460\n",
            "Epoch 76/150\n",
            "44/44 [==============================] - 0s 6ms/step - loss: 0.5066 - accuracy: 0.8100 - val_loss: 0.6739 - val_accuracy: 0.7513\n",
            "Epoch 77/150\n",
            "44/44 [==============================] - 0s 5ms/step - loss: 0.5020 - accuracy: 0.8066 - val_loss: 0.6715 - val_accuracy: 0.7407\n",
            "Epoch 78/150\n",
            "44/44 [==============================] - 0s 5ms/step - loss: 0.4987 - accuracy: 0.8157 - val_loss: 0.6649 - val_accuracy: 0.7487\n",
            "Epoch 79/150\n",
            "44/44 [==============================] - 0s 5ms/step - loss: 0.4969 - accuracy: 0.8134 - val_loss: 0.6726 - val_accuracy: 0.7434\n",
            "Epoch 80/150\n",
            "44/44 [==============================] - 0s 5ms/step - loss: 0.4988 - accuracy: 0.8146 - val_loss: 0.6599 - val_accuracy: 0.7540\n",
            "Epoch 81/150\n",
            "44/44 [==============================] - 0s 4ms/step - loss: 0.4959 - accuracy: 0.8123 - val_loss: 0.6613 - val_accuracy: 0.7487\n",
            "Epoch 82/150\n",
            "44/44 [==============================] - 0s 5ms/step - loss: 0.4880 - accuracy: 0.8111 - val_loss: 0.6550 - val_accuracy: 0.7513\n",
            "Epoch 83/150\n",
            "44/44 [==============================] - 0s 5ms/step - loss: 0.4807 - accuracy: 0.8157 - val_loss: 0.6535 - val_accuracy: 0.7566\n",
            "Epoch 84/150\n",
            "44/44 [==============================] - 0s 5ms/step - loss: 0.4772 - accuracy: 0.8214 - val_loss: 0.6552 - val_accuracy: 0.7540\n",
            "Epoch 85/150\n",
            "44/44 [==============================] - 0s 5ms/step - loss: 0.4763 - accuracy: 0.8225 - val_loss: 0.6574 - val_accuracy: 0.7566\n",
            "Epoch 86/150\n",
            "44/44 [==============================] - 0s 5ms/step - loss: 0.4751 - accuracy: 0.8180 - val_loss: 0.6514 - val_accuracy: 0.7619\n",
            "Epoch 87/150\n",
            "44/44 [==============================] - 0s 5ms/step - loss: 0.4804 - accuracy: 0.8271 - val_loss: 0.6434 - val_accuracy: 0.7619\n",
            "Epoch 88/150\n",
            "44/44 [==============================] - 0s 5ms/step - loss: 0.4650 - accuracy: 0.8237 - val_loss: 0.6437 - val_accuracy: 0.7566\n",
            "Epoch 89/150\n",
            "44/44 [==============================] - 0s 5ms/step - loss: 0.4610 - accuracy: 0.8385 - val_loss: 0.6468 - val_accuracy: 0.7672\n",
            "Epoch 90/150\n",
            "44/44 [==============================] - 0s 5ms/step - loss: 0.4672 - accuracy: 0.8282 - val_loss: 0.6356 - val_accuracy: 0.7725\n",
            "Epoch 91/150\n",
            "44/44 [==============================] - 0s 4ms/step - loss: 0.4522 - accuracy: 0.8385 - val_loss: 0.6296 - val_accuracy: 0.7619\n",
            "Epoch 92/150\n",
            "44/44 [==============================] - 0s 5ms/step - loss: 0.4480 - accuracy: 0.8339 - val_loss: 0.6320 - val_accuracy: 0.7778\n",
            "Epoch 93/150\n",
            "44/44 [==============================] - 0s 5ms/step - loss: 0.4511 - accuracy: 0.8328 - val_loss: 0.6194 - val_accuracy: 0.7698\n",
            "Epoch 94/150\n",
            "44/44 [==============================] - 0s 5ms/step - loss: 0.4521 - accuracy: 0.8271 - val_loss: 0.6196 - val_accuracy: 0.7646\n",
            "Epoch 95/150\n",
            "44/44 [==============================] - 0s 5ms/step - loss: 0.4474 - accuracy: 0.8350 - val_loss: 0.6182 - val_accuracy: 0.7698\n",
            "Epoch 96/150\n",
            "44/44 [==============================] - 0s 5ms/step - loss: 0.4419 - accuracy: 0.8396 - val_loss: 0.6169 - val_accuracy: 0.7646\n",
            "Epoch 97/150\n",
            "44/44 [==============================] - 0s 5ms/step - loss: 0.4406 - accuracy: 0.8396 - val_loss: 0.6249 - val_accuracy: 0.7672\n",
            "Epoch 98/150\n",
            "44/44 [==============================] - 0s 5ms/step - loss: 0.4367 - accuracy: 0.8282 - val_loss: 0.6118 - val_accuracy: 0.7672\n",
            "Epoch 99/150\n",
            "44/44 [==============================] - 0s 5ms/step - loss: 0.4322 - accuracy: 0.8396 - val_loss: 0.6126 - val_accuracy: 0.7751\n",
            "Epoch 100/150\n",
            "44/44 [==============================] - 0s 5ms/step - loss: 0.4319 - accuracy: 0.8430 - val_loss: 0.6056 - val_accuracy: 0.7778\n",
            "Epoch 101/150\n",
            "44/44 [==============================] - 0s 6ms/step - loss: 0.4247 - accuracy: 0.8373 - val_loss: 0.6034 - val_accuracy: 0.7725\n",
            "Epoch 102/150\n",
            "44/44 [==============================] - 0s 4ms/step - loss: 0.4212 - accuracy: 0.8396 - val_loss: 0.6010 - val_accuracy: 0.7751\n",
            "Epoch 103/150\n",
            "44/44 [==============================] - 0s 6ms/step - loss: 0.4174 - accuracy: 0.8453 - val_loss: 0.6006 - val_accuracy: 0.7804\n",
            "Epoch 104/150\n",
            "44/44 [==============================] - 0s 5ms/step - loss: 0.4246 - accuracy: 0.8339 - val_loss: 0.6215 - val_accuracy: 0.7751\n",
            "Epoch 105/150\n",
            "44/44 [==============================] - 0s 5ms/step - loss: 0.4149 - accuracy: 0.8464 - val_loss: 0.6051 - val_accuracy: 0.7619\n",
            "Epoch 106/150\n",
            "44/44 [==============================] - 0s 4ms/step - loss: 0.4124 - accuracy: 0.8532 - val_loss: 0.6273 - val_accuracy: 0.7566\n",
            "Epoch 107/150\n",
            "44/44 [==============================] - 0s 6ms/step - loss: 0.4164 - accuracy: 0.8498 - val_loss: 0.5830 - val_accuracy: 0.7910\n",
            "Epoch 108/150\n",
            "44/44 [==============================] - 0s 5ms/step - loss: 0.4067 - accuracy: 0.8567 - val_loss: 0.6096 - val_accuracy: 0.7672\n",
            "Epoch 109/150\n",
            "44/44 [==============================] - 0s 5ms/step - loss: 0.4072 - accuracy: 0.8419 - val_loss: 0.5885 - val_accuracy: 0.7884\n",
            "Epoch 110/150\n",
            "44/44 [==============================] - 0s 5ms/step - loss: 0.4070 - accuracy: 0.8521 - val_loss: 0.5912 - val_accuracy: 0.7751\n",
            "Epoch 111/150\n",
            "44/44 [==============================] - 0s 6ms/step - loss: 0.4007 - accuracy: 0.8521 - val_loss: 0.5902 - val_accuracy: 0.7698\n",
            "Epoch 112/150\n",
            "44/44 [==============================] - 0s 6ms/step - loss: 0.3963 - accuracy: 0.8544 - val_loss: 0.5798 - val_accuracy: 0.7725\n",
            "Epoch 113/150\n",
            "44/44 [==============================] - 0s 5ms/step - loss: 0.3860 - accuracy: 0.8589 - val_loss: 0.5809 - val_accuracy: 0.7910\n",
            "Epoch 114/150\n",
            "44/44 [==============================] - 0s 5ms/step - loss: 0.3937 - accuracy: 0.8555 - val_loss: 0.5703 - val_accuracy: 0.7884\n",
            "Epoch 115/150\n",
            "44/44 [==============================] - 0s 5ms/step - loss: 0.3865 - accuracy: 0.8623 - val_loss: 0.5813 - val_accuracy: 0.7857\n",
            "Epoch 116/150\n",
            "44/44 [==============================] - 0s 6ms/step - loss: 0.3917 - accuracy: 0.8714 - val_loss: 0.5816 - val_accuracy: 0.7804\n",
            "Epoch 117/150\n",
            "44/44 [==============================] - 0s 5ms/step - loss: 0.3917 - accuracy: 0.8623 - val_loss: 0.5628 - val_accuracy: 0.7910\n",
            "Epoch 118/150\n",
            "44/44 [==============================] - 0s 5ms/step - loss: 0.3767 - accuracy: 0.8589 - val_loss: 0.5673 - val_accuracy: 0.7884\n",
            "Epoch 119/150\n",
            "44/44 [==============================] - 0s 5ms/step - loss: 0.3761 - accuracy: 0.8646 - val_loss: 0.5627 - val_accuracy: 0.7857\n",
            "Epoch 120/150\n",
            "44/44 [==============================] - 0s 6ms/step - loss: 0.3729 - accuracy: 0.8726 - val_loss: 0.5533 - val_accuracy: 0.7910\n",
            "Epoch 121/150\n",
            "44/44 [==============================] - 0s 5ms/step - loss: 0.3710 - accuracy: 0.8737 - val_loss: 0.5492 - val_accuracy: 0.7963\n",
            "Epoch 122/150\n",
            "44/44 [==============================] - 0s 5ms/step - loss: 0.3687 - accuracy: 0.8714 - val_loss: 0.5618 - val_accuracy: 0.7963\n",
            "Epoch 123/150\n",
            "44/44 [==============================] - 0s 5ms/step - loss: 0.3606 - accuracy: 0.8783 - val_loss: 0.5435 - val_accuracy: 0.8069\n",
            "Epoch 124/150\n",
            "44/44 [==============================] - 0s 6ms/step - loss: 0.3616 - accuracy: 0.8783 - val_loss: 0.5487 - val_accuracy: 0.8069\n",
            "Epoch 125/150\n",
            "44/44 [==============================] - 0s 5ms/step - loss: 0.3528 - accuracy: 0.8680 - val_loss: 0.5472 - val_accuracy: 0.7937\n",
            "Epoch 126/150\n",
            "44/44 [==============================] - 0s 5ms/step - loss: 0.3490 - accuracy: 0.8817 - val_loss: 0.5499 - val_accuracy: 0.7884\n",
            "Epoch 127/150\n",
            "44/44 [==============================] - 0s 5ms/step - loss: 0.3513 - accuracy: 0.8703 - val_loss: 0.5374 - val_accuracy: 0.8016\n",
            "Epoch 128/150\n",
            "44/44 [==============================] - 0s 6ms/step - loss: 0.3459 - accuracy: 0.8817 - val_loss: 0.5532 - val_accuracy: 0.7937\n",
            "Epoch 129/150\n",
            "44/44 [==============================] - 0s 5ms/step - loss: 0.3502 - accuracy: 0.8794 - val_loss: 0.5580 - val_accuracy: 0.7884\n",
            "Epoch 130/150\n",
            "44/44 [==============================] - 0s 6ms/step - loss: 0.3404 - accuracy: 0.8885 - val_loss: 0.5344 - val_accuracy: 0.7989\n",
            "Epoch 131/150\n",
            "44/44 [==============================] - 0s 5ms/step - loss: 0.3418 - accuracy: 0.8908 - val_loss: 0.5278 - val_accuracy: 0.8042\n",
            "Epoch 132/150\n",
            "44/44 [==============================] - 0s 6ms/step - loss: 0.3409 - accuracy: 0.8817 - val_loss: 0.5495 - val_accuracy: 0.7963\n",
            "Epoch 133/150\n",
            "44/44 [==============================] - 0s 5ms/step - loss: 0.3437 - accuracy: 0.8771 - val_loss: 0.5320 - val_accuracy: 0.8069\n",
            "Epoch 134/150\n",
            "44/44 [==============================] - 0s 5ms/step - loss: 0.3374 - accuracy: 0.8828 - val_loss: 0.5477 - val_accuracy: 0.7884\n",
            "Epoch 135/150\n",
            "44/44 [==============================] - 0s 5ms/step - loss: 0.3358 - accuracy: 0.8919 - val_loss: 0.5317 - val_accuracy: 0.7989\n",
            "Epoch 136/150\n",
            "44/44 [==============================] - 0s 5ms/step - loss: 0.3316 - accuracy: 0.8851 - val_loss: 0.5202 - val_accuracy: 0.8069\n",
            "Epoch 137/150\n",
            "44/44 [==============================] - 0s 5ms/step - loss: 0.3252 - accuracy: 0.8976 - val_loss: 0.5273 - val_accuracy: 0.7989\n",
            "Epoch 138/150\n",
            "44/44 [==============================] - 0s 5ms/step - loss: 0.3206 - accuracy: 0.8919 - val_loss: 0.5121 - val_accuracy: 0.8069\n"
          ]
        },
        {
          "output_type": "execute_result",
          "data": {
            "text/plain": [
              "<keras.callbacks.History at 0x7f2aed182a90>"
            ]
          },
          "metadata": {},
          "execution_count": 56
        }
      ]
    },
    {
      "cell_type": "code",
      "source": [
        "hidden_layer_model=Model(inputs=model.input,outputs=model.get_layer(\"flatten_1\").output)\n",
        "cnn_train_result=hidden_layer_model.predict(x_train)"
      ],
      "metadata": {
        "id": "iT7VS_LqN8Eb"
      },
      "execution_count": 74,
      "outputs": []
    },
    {
      "cell_type": "code",
      "source": [
        "# print(cnn_train_result[0])"
      ],
      "metadata": {
        "colab": {
          "base_uri": "https://localhost:8080/"
        },
        "id": "83RuJgmPPiSh",
        "outputId": "c950a709-437f-4917-9beb-1806564c7fc9"
      },
      "execution_count": 61,
      "outputs": [
        {
          "output_type": "stream",
          "name": "stdout",
          "text": [
            "[3.7267792  0.         0.83910847 2.8680727  4.0251436  1.742605\n",
            " 0.7380286  2.3869326 ]\n"
          ]
        }
      ]
    },
    {
      "cell_type": "code",
      "source": [
        "y_train_oh=np_utils.to_categorical(y_train,10)"
      ],
      "metadata": {
        "id": "EsxxQvlDQ2c9"
      },
      "execution_count": 59,
      "outputs": []
    },
    {
      "cell_type": "code",
      "source": [
        "cnn_train_result.shape"
      ],
      "metadata": {
        "colab": {
          "base_uri": "https://localhost:8080/"
        },
        "id": "oq3XS_m9SU7S",
        "outputId": "c50aa76b-d6f7-4c76-b90a-b81ede97b12c"
      },
      "execution_count": 60,
      "outputs": [
        {
          "output_type": "execute_result",
          "data": {
            "text/plain": [
              "(1257, 8)"
            ]
          },
          "metadata": {},
          "execution_count": 60
        }
      ]
    },
    {
      "cell_type": "code",
      "source": [
        "x_train.shape"
      ],
      "metadata": {
        "colab": {
          "base_uri": "https://localhost:8080/"
        },
        "id": "OuwnjhE1Vm4s",
        "outputId": "979da04c-f639-43e7-9a7d-0571a95d3255"
      },
      "execution_count": 61,
      "outputs": [
        {
          "output_type": "execute_result",
          "data": {
            "text/plain": [
              "(1257, 8, 8, 1)"
            ]
          },
          "metadata": {},
          "execution_count": 61
        }
      ]
    },
    {
      "cell_type": "code",
      "source": [
        "elm_model=hpelm.elm.ELM(8,10)\n",
        "elm_model.add_neurons(150,func=\"sigm\")\n",
        "elm_model.train(cnn_train_result,y_train_oh,\"c\")"
      ],
      "metadata": {
        "colab": {
          "base_uri": "https://localhost:8080/"
        },
        "id": "_PnJiiMcTGuB",
        "outputId": "bd84e82a-b494-41a5-a596-33d88b03c11e"
      },
      "execution_count": 62,
      "outputs": [
        {
          "output_type": "stream",
          "name": "stdout",
          "text": [
            "Covariance matrix is not full rank; solving with SVD (slow)\n",
            "This happened because you have duplicated or too many neurons\n"
          ]
        },
        {
          "output_type": "stream",
          "name": "stderr",
          "text": [
            "/usr/local/lib/python3.7/dist-packages/hpelm/nnets/slfn_python.py:65: FutureWarning: `rcond` parameter will change to the default of machine precision times ``max(M, N)`` where M and N are the input matrix dimensions.\n",
            "To use the future default and silence this warning we advise to pass `rcond=None`, to keep using the old, explicitly pass `rcond=-1`.\n",
            "  B = np.linalg.lstsq(HH, HT)[0]\n"
          ]
        }
      ]
    },
    {
      "cell_type": "code",
      "source": [
        "cnn_result=hidden_layer_model.predict(x_test)\n",
        "final_result=elm_model.predict(cnn_result)\n",
        "# print(final_result[0])"
      ],
      "metadata": {
        "id": "pgIRbX0-V3gY"
      },
      "execution_count": 63,
      "outputs": []
    },
    {
      "cell_type": "code",
      "source": [
        "# print(final_result[2])"
      ],
      "metadata": {
        "colab": {
          "base_uri": "https://localhost:8080/"
        },
        "id": "CH--uX_obgzA",
        "outputId": "d4d399e5-f69e-4e33-fcd0-99bce5645914"
      },
      "execution_count": 87,
      "outputs": [
        {
          "output_type": "stream",
          "name": "stdout",
          "text": [
            "[-0.00206318 -0.03071092 -0.03225942 -0.03767784  0.10475771 -0.03310201\n",
            " -0.03900965  0.26304077  0.0104062   0.79661834]\n"
          ]
        }
      ]
    },
    {
      "cell_type": "code",
      "source": [
        "final_result_class=[np.argmax(i) for i in final_result]"
      ],
      "metadata": {
        "id": "yf6N0SBOa5hJ"
      },
      "execution_count": 64,
      "outputs": []
    },
    {
      "cell_type": "code",
      "source": [
        "print(final_result_class)"
      ],
      "metadata": {
        "colab": {
          "base_uri": "https://localhost:8080/"
        },
        "id": "mPCsegkkbbqm",
        "outputId": "7ab29aae-5942-4202-a48b-0a557f60d6ca"
      },
      "execution_count": 65,
      "outputs": [
        {
          "output_type": "stream",
          "name": "stdout",
          "text": [
            "[4, 2, 0, 7, 9, 3, 5, 5, 0, 5, 3, 1, 4, 1, 7, 7, 7, 5, 8, 2, 6, 5, 8, 8, 9, 0, 0, 1, 9, 8, 8, 5, 0, 6, 4, 0, 6, 0, 2, 7, 4, 3, 0, 0, 9, 5, 1, 2, 6, 3, 7, 8, 1, 4, 8, 9, 8, 3, 2, 4, 8, 1, 9, 6, 6, 5, 3, 0, 1, 1, 6, 5, 0, 5, 8, 4, 7, 8, 7, 9, 0, 1, 8, 4, 2, 0, 1, 0, 3, 3, 9, 5, 3, 6, 8, 0, 6, 3, 3, 4, 0, 1, 0, 6, 2, 1, 1, 9, 6, 5, 9, 8, 0, 8, 4, 9, 2, 4, 6, 3, 0, 5, 8, 5, 1, 3, 5, 2, 9, 7, 3, 1, 6, 3, 3, 1, 1, 8, 7, 8, 4, 4, 5, 8, 8, 8, 9, 5, 2, 4, 7, 3, 9, 0, 2, 7, 2, 2, 0, 6, 3, 5, 8, 0, 9, 8, 6, 8, 1, 6, 0, 1, 8, 2, 1, 3, 7, 3, 4, 0, 5, 5, 5, 6, 1, 3, 5, 5, 7, 5, 9, 8, 4, 4, 7, 5, 4, 0, 4, 5, 8, 9, 7, 4, 0, 7, 0, 4, 3, 7, 3, 3, 9, 7, 3, 4, 6, 4, 8, 5, 2, 8, 7, 3, 3, 7, 6, 4, 0, 3, 9, 1, 6, 1, 0, 5, 1, 3, 9, 4, 8, 9, 0, 1, 3, 1, 0, 4, 6, 2, 1, 2, 8, 5, 9, 9, 6, 0, 2, 5, 1, 2, 4, 2, 6, 0, 8, 6, 4, 4, 8, 3, 2, 5, 6, 4, 9, 7, 2, 8, 6, 1, 7, 6, 8, 3, 1, 0, 9, 3, 3, 9, 7, 1, 1, 3, 4, 6, 6, 7, 8, 3, 1, 1, 4, 5, 0, 4, 4, 0, 4, 2, 4, 7, 4, 6, 5, 0, 9, 8, 2, 0, 3, 4, 7, 1, 3, 1, 1, 3, 6, 2, 0, 2, 4, 9, 2, 8, 9, 3, 5, 6, 8, 6, 2, 4, 6, 0, 4, 0, 1, 2, 9, 5, 2, 7, 6, 4, 9, 7, 8, 6, 6, 3, 0, 2, 2, 8, 7, 0, 5, 9, 0, 5, 4, 1, 8, 7, 4, 0, 2, 8, 9, 9, 8, 5, 5, 0, 7, 4, 1, 2, 5, 6, 4, 7, 4, 9, 1, 0, 3, 0, 3, 3, 0, 7, 4, 6, 8, 7, 3, 4, 4, 7, 1, 3, 7, 9, 9, 7, 1, 8, 5, 1, 3, 9, 4, 9, 8, 4, 0, 7, 5, 8, 5, 0, 4, 6, 1, 3, 8, 0, 9, 3, 5, 0, 3, 0, 0, 4, 7, 8, 9, 1, 8, 6, 1, 0, 5, 4, 2, 1, 0, 1, 0, 3, 0, 1, 4, 3, 8, 9, 3, 5, 8, 3, 4, 1, 6, 8, 0, 3, 0, 5, 6, 6, 2, 0, 9, 5, 5, 3, 9, 2, 7, 7, 4, 6, 1, 6, 7, 0, 0, 8, 8, 2, 2, 1, 4, 4, 2, 5, 2, 3, 1, 5, 2, 8, 2, 0, 5, 6, 1, 1, 1, 9, 4, 3, 4, 1, 0, 3, 8, 6, 0, 3, 6, 5, 5, 3]\n"
          ]
        }
      ]
    },
    {
      "cell_type": "code",
      "source": [
        "y_test_oh=np_utils.to_categorical(y_test,10)"
      ],
      "metadata": {
        "id": "zlrPlMT_Xu32"
      },
      "execution_count": 66,
      "outputs": []
    },
    {
      "cell_type": "code",
      "source": [
        "cm=elm_model.confusion(y_test_oh,final_result)"
      ],
      "metadata": {
        "id": "keNys3LPXGfH"
      },
      "execution_count": 67,
      "outputs": []
    },
    {
      "cell_type": "code",
      "source": [
        "sn.heatmap(cm,annot=True,cmap=\"rainbow\")\n",
        "plt.show()\n"
      ],
      "metadata": {
        "colab": {
          "base_uri": "https://localhost:8080/",
          "height": 269
        },
        "id": "KHMMtOhEX8Oe",
        "outputId": "17ebadbb-2ea1-444f-98dd-aa483fb9242f"
      },
      "execution_count": 68,
      "outputs": [
        {
          "output_type": "display_data",
          "data": {
            "text/plain": [
              "<Figure size 432x288 with 2 Axes>"
            ],
            "image/png": "[encoded data removed]"
          },
          "metadata": {
            "needs_background": "light"
          }
        }
      ]
    },
    {
      "cell_type": "code",
      "source": [
        "precision,recall,f_score,support=precision_recall_fscore_support(y_test,final_result_class)\n",
        "print(precision)"
      ],
      "metadata": {
        "colab": {
          "base_uri": "https://localhost:8080/"
        },
        "id": "IDqceGIqacCi",
        "outputId": "35e6a4ff-c11b-4dd3-aca6-e52452db5168"
      },
      "execution_count": 69,
      "outputs": [
        {
          "output_type": "stream",
          "name": "stdout",
          "text": [
            "[0.89552239 0.77586207 0.95348837 0.86885246 0.96774194 0.85185185\n",
            " 0.95918367 0.93023256 0.70689655 0.82222222]\n"
          ]
        }
      ]
    },
    {
      "cell_type": "code",
      "source": [
        "accuracy=accuracy_score(y_test,final_result_class)"
      ],
      "metadata": {
        "id": "LW-wqmxtcjNu"
      },
      "execution_count": 70,
      "outputs": []
    },
    {
      "cell_type": "code",
      "source": [
        "print(accuracy)"
      ],
      "metadata": {
        "colab": {
          "base_uri": "https://localhost:8080/"
        },
        "id": "FT8CRMgecuD7",
        "outputId": "4b340058-1a0d-406b-ccab-9a1dc0b6abeb"
      },
      "execution_count": 71,
      "outputs": [
        {
          "output_type": "stream",
          "name": "stdout",
          "text": [
            "0.8703703703703703\n"
          ]
        }
      ]
    }
  ]
}